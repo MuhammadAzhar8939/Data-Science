{
 "cells": [
  {
   "cell_type": "code",
   "execution_count": 1,
   "id": "d2e479e9",
   "metadata": {},
   "outputs": [
    {
     "name": "stdout",
     "output_type": "stream",
     "text": [
      "Twinkle, twinkle, little star, \n",
      "\tHow I wonder what you are! \n",
      "\t\tUp above the world so high, \n",
      "\t\tLike a diamond in the sky. \n",
      "Twinkle, twinkle, little star, \n",
      "\tHow I wonder what you are!\n"
     ]
    }
   ],
   "source": [
    "print(\"Twinkle, twinkle, little star, \\n\\tHow I wonder what you are! \\n\\t\\tUp above the world so high, \\n\\t\\tLike a diamond in the sky. \\nTwinkle, twinkle, little star, \\n\\tHow I wonder what you are!\")\n"
   ]
  },
  {
   "cell_type": "code",
   "execution_count": 2,
   "id": "5667446a",
   "metadata": {},
   "outputs": [
    {
     "name": "stdout",
     "output_type": "stream",
     "text": [
      "Python version\n",
      "3.8.8 (default, Apr 13 2021, 15:08:03) [MSC v.1916 64 bit (AMD64)]\n",
      "Version info.\n",
      "sys.version_info(major=3, minor=8, micro=8, releaselevel='final', serial=0)\n"
     ]
    }
   ],
   "source": [
    "import sys\n",
    "print(\"Python version\")\n",
    "print (sys.version)\n",
    "print(\"Version info.\")\n",
    "print (sys.version_info)\n"
   ]
  },
  {
   "cell_type": "code",
   "execution_count": 3,
   "id": "67fda02a",
   "metadata": {},
   "outputs": [
    {
     "name": "stdout",
     "output_type": "stream",
     "text": [
      "Current date and time is: \n",
      "2022-01-01 21:03:18\n"
     ]
    }
   ],
   "source": [
    "import datetime\n",
    "current = datetime.datetime.now()\n",
    "print (\"Current date and time is: \")\n",
    "print (current.strftime(\"%Y-%m-%d %H:%M:%S\"))\n",
    "\n"
   ]
  },
  {
   "cell_type": "code",
   "execution_count": 4,
   "id": "afd9540d",
   "metadata": {},
   "outputs": [
    {
     "name": "stdout",
     "output_type": "stream",
     "text": [
      "Enter the radius of the circle : 5\n",
      "The area of the circle with radius 5.0 is: 78.53981633974483\n"
     ]
    }
   ],
   "source": [
    "from math import pi\n",
    "r = float(input (\"Enter the radius of the circle : \"))\n",
    "print (\"The area of the circle with radius \" + str(r) + \" is: \" + str(pi * r**2))\n",
    "#in above line we typecast r and p*r**2 in string for concatination purpose.\n"
   ]
  },
  {
   "cell_type": "code",
   "execution_count": 5,
   "id": "16624ee7",
   "metadata": {},
   "outputs": [
    {
     "name": "stdout",
     "output_type": "stream",
     "text": [
      "Enter your First Name : Muhammad Azhar\n",
      "Enter your Last Name : UMAR\n",
      "UMAR Muhammad Azhar\n"
     ]
    }
   ],
   "source": [
    "fname = input(\"Enter your First Name : \")\n",
    "lname = input(\"Enter your Last Name : \")\n",
    "print (lname + \" \" + fname)\n"
   ]
  },
  {
   "cell_type": "code",
   "execution_count": 6,
   "id": "31549284",
   "metadata": {},
   "outputs": [
    {
     "name": "stdout",
     "output_type": "stream",
     "text": [
      "enter first number : 4\n",
      "enter second number : 4\n",
      "sum of 4 and 4 is 8\n"
     ]
    }
   ],
   "source": [
    "a=int(input(\"enter first number : \"))\n",
    "\n",
    "b=int(input(\"enter second number : \"))\n",
    "\n",
    "print(\"sum of\",a, \"and\",b,\"is\",a+b)"
   ]
  },
  {
   "cell_type": "code",
   "execution_count": null,
   "id": "75007629",
   "metadata": {},
   "outputs": [],
   "source": []
  }
 ],
 "metadata": {
  "kernelspec": {
   "display_name": "Python 3",
   "language": "python",
   "name": "python3"
  },
  "language_info": {
   "codemirror_mode": {
    "name": "ipython",
    "version": 3
   },
   "file_extension": ".py",
   "mimetype": "text/x-python",
   "name": "python",
   "nbconvert_exporter": "python",
   "pygments_lexer": "ipython3",
   "version": "3.8.8"
  }
 },
 "nbformat": 4,
 "nbformat_minor": 5
}
